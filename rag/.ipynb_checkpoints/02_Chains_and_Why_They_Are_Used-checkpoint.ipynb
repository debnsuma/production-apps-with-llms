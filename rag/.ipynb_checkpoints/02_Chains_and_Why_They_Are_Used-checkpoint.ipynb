{
 "cells": [
  {
   "cell_type": "markdown",
   "metadata": {},
   "source": [
    "# Loading the `env` variables"
   ]
  },
  {
   "cell_type": "code",
   "execution_count": 1,
   "metadata": {
    "colab": {
     "base_uri": "https://localhost:8080/"
    },
    "id": "hAsSxpAyUOnF",
    "outputId": "89d0a63f-9c88-4a8f-958a-e97c7451a9f0"
   },
   "outputs": [
    {
     "data": {
      "text/plain": [
       "True"
      ]
     },
     "execution_count": 1,
     "metadata": {},
     "output_type": "execute_result"
    }
   ],
   "source": [
    "from dotenv import load_dotenv\n",
    "\n",
    "load_dotenv()"
   ]
  },
  {
   "cell_type": "markdown",
   "metadata": {
    "id": "N-J9LsngZsfp"
   },
   "source": [
    "## Getting started with `prompt` + `model` + `output parser`"
   ]
  },
  {
   "cell_type": "code",
   "execution_count": 2,
   "metadata": {},
   "outputs": [],
   "source": [
    "from langchain_core.prompts import PromptTemplate\n",
    "from langchain_core.output_parsers import StrOutputParser\n",
    "\n",
    "from langchain.chains import LLMChain\n",
    "from langchain_aws import BedrockLLM"
   ]
  },
  {
   "cell_type": "markdown",
   "metadata": {},
   "source": [
    "## `Single` inference"
   ]
  },
  {
   "cell_type": "code",
   "execution_count": 3,
   "metadata": {
    "colab": {
     "base_uri": "https://localhost:8080/"
    },
    "id": "oQn4558HUPvI",
    "outputId": "35edbf54-a44e-41d7-806f-2d2e0f374970"
   },
   "outputs": [
    {
     "name": "stdout",
     "output_type": "stream",
     "text": [
      " Here are some words that can replace \"machine\" in certain contexts:\n",
      "\n",
      "- Apparatus\n",
      "- Automaton \n",
      "- Contraption\n",
      "- Device\n",
      "- Engine\n",
      "- Equipment \n",
      "- Gadget\n",
      "- Mechanism\n",
      "- Tool\n",
      "- Instrument\n",
      "- Appliance\n",
      "- Processor\n",
      "- Computer\n",
      "- Vehicle\n",
      "- Robot\n",
      "\n",
      "The appropriate replacement would depend on the specific context and what type of machine you are trying to describe. Some focus on the mechanical nature (apparatus, contraption) while others imply a level of automation (automaton, robot). Words like device, tool, or instrument are more general.\n"
     ]
    }
   ],
   "source": [
    "prompt_template = \"What is a word to replace the following: {word}?\"\n",
    "\n",
    "llm = BedrockLLM(model_id=\"anthropic.claude-v2\")\n",
    "prompt = PromptTemplate.from_template(prompt_template)\n",
    "output_parser = StrOutputParser()\n",
    "\n",
    "chain = prompt | llm | output_parser\n",
    "\n",
    "result = chain.invoke({\"word\": \"Machine\"})\n",
    "print(result)"
   ]
  },
  {
   "cell_type": "markdown",
   "metadata": {
    "id": "3lGTqvJxXjMZ"
   },
   "source": [
    "## `Batch` inference"
   ]
  },
  {
   "cell_type": "code",
   "execution_count": 4,
   "metadata": {},
   "outputs": [
    {
     "name": "stdout",
     "output_type": "stream",
     "text": [
      "**************************** Result for word #1 **************************** \n",
      "\n",
      " Here are some words that can replace \"artificial\" in certain contexts:\n",
      "\n",
      "- Synthetic\n",
      "- Manmade\n",
      "- Simulated\n",
      "- Fake\n",
      "- Imitation\n",
      "- Manufactured\n",
      "- Fabricated \n",
      "- Processed\n",
      "- Unnatural\n",
      "- Inorganic\n",
      "\n",
      "The appropriate replacement depends on the exact context and meaning you want to convey. Some possibilities:\n",
      "\n",
      "- Synthetic fibers instead of natural fibers in clothing.\n",
      "- A manmade lake instead of a natural lake.  \n",
      "- Simulated leather instead of real leather.\n",
      "- Fake plants instead of live plants for decor.\n",
      "- An imitation diamond instead of a mined diamond.\n",
      "- Manufactured hardwood flooring instead of solid wood.\n",
      "- Fabricated personalities instead of authentic ones.\n",
      "- Processed cheese instead of natural cheese.\n",
      "- Unnatural flavors instead of natural flavors in food.\n",
      "- Inorganic fertilizer instead of organic fertilizer for crops.\n",
      "\n",
      "Hope this gives you some good options to substitute for \"artificial\" when you need a synonym! Let me know if you need any clarification on the differences between the words.\n",
      "**************************** Result for word #2 **************************** \n",
      "\n",
      " Here are some words that can replace \"intelligence\" in certain contexts:\n",
      "\n",
      "- Acumen - keen insight or judgment\n",
      "\n",
      "- Aptitude - natural ability or skill\n",
      "\n",
      "- Brilliance - exceptional talent or intelligence\n",
      "\n",
      "- Cognition - the mental process of knowing, including awareness, perception, reasoning, and judgment\n",
      "\n",
      "- Intellect - the ability to reason and understand\n",
      "\n",
      "- Sagacity - the quality of being discerning, sound in judgment, and farsighted \n",
      "\n",
      "- Savvy - practical knowledge and shrewdness\n",
      "\n",
      "- Wittiness - the quality of being clever, funny, and quick-thinking\n",
      "\n",
      "The exact replacement would depend on the context and the specific meaning you want to convey. But these are some common words that can substitute for \"intelligence\" in many sentences.\n",
      "**************************** Result for word #3 **************************** \n",
      "\n",
      " Here are some words that can replace \"robot\" in certain contexts:\n",
      "\n",
      "- Automaton - A self-operating machine or mechanism, especially a robot.\n",
      "\n",
      "- Android - A robot designed to resemble a human in appearance.\n",
      "\n",
      "- Machine - A system of working parts for a specific purpose, often automated.\n",
      "\n",
      "- Mechanical - Relating to or controlled or operated by machinery. \n",
      "\n",
      "- Artificial intelligence - The capability of a machine to imitate intelligent human behavior.\n",
      "\n",
      "- Cyborg - A fictional or hypothetical person whose physical abilities are extended beyond normal human limitations by mechanical elements built into the body.\n",
      "\n",
      "- Droid - A robot, especially one capable of human-like tasks. Often used in science fiction. \n",
      "\n",
      "The best replacement depends on the context and what meaning you want to convey. \"Automaton\" or \"machine\" work for a more generic robot, while \"android\" or \"droid\" imply a more human-like robot.\n"
     ]
    }
   ],
   "source": [
    "chain = prompt | llm | output_parser\n",
    "input_list = [\n",
    "    {\"word\": \"artificial\"},\n",
    "    {\"word\": \"intelligence\"},\n",
    "    {\"word\": \"robot\"}\n",
    "]\n",
    "\n",
    "result = chain.batch(input_list)\n",
    "\n",
    "for i, r in enumerate(result):\n",
    "    print(f\"**************************** Result for word #{i+1} **************************** \\n\")\n",
    "    print(r)"
   ]
  }
 ],
 "metadata": {
  "colab": {
   "provenance": []
  },
  "kernelspec": {
   "display_name": "Python 3 (ipykernel)",
   "language": "python",
   "name": "python3"
  },
  "language_info": {
   "codemirror_mode": {
    "name": "ipython",
    "version": 3
   },
   "file_extension": ".py",
   "mimetype": "text/x-python",
   "name": "python",
   "nbconvert_exporter": "python",
   "pygments_lexer": "ipython3",
   "version": "3.11.9"
  }
 },
 "nbformat": 4,
 "nbformat_minor": 4
}
